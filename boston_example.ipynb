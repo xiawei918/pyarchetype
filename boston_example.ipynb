{
 "cells": [
  {
   "cell_type": "code",
   "execution_count": 274,
   "metadata": {},
   "outputs": [],
   "source": [
    "from sklearn import datasets\n",
    "import pandas as pd\n",
    "import numpy as np\n",
    "import matplotlib.pyplot as plt"
   ]
  },
  {
   "cell_type": "code",
   "execution_count": 5,
   "metadata": {},
   "outputs": [],
   "source": [
    "boston_obj = datasets.load_boston()"
   ]
  },
  {
   "cell_type": "code",
   "execution_count": 9,
   "metadata": {},
   "outputs": [],
   "source": [
    "boston_df = pd.DataFrame(boston_obj.data, columns=boston_obj.feature_names)"
   ]
  },
  {
   "cell_type": "code",
   "execution_count": 12,
   "metadata": {},
   "outputs": [],
   "source": [
    "boston_df['price'] = boston_obj.target"
   ]
  },
  {
   "cell_type": "code",
   "execution_count": 13,
   "metadata": {},
   "outputs": [
    {
     "data": {
      "text/html": [
       "<div>\n",
       "<style scoped>\n",
       "    .dataframe tbody tr th:only-of-type {\n",
       "        vertical-align: middle;\n",
       "    }\n",
       "\n",
       "    .dataframe tbody tr th {\n",
       "        vertical-align: top;\n",
       "    }\n",
       "\n",
       "    .dataframe thead th {\n",
       "        text-align: right;\n",
       "    }\n",
       "</style>\n",
       "<table border=\"1\" class=\"dataframe\">\n",
       "  <thead>\n",
       "    <tr style=\"text-align: right;\">\n",
       "      <th></th>\n",
       "      <th>CRIM</th>\n",
       "      <th>ZN</th>\n",
       "      <th>INDUS</th>\n",
       "      <th>CHAS</th>\n",
       "      <th>NOX</th>\n",
       "      <th>RM</th>\n",
       "      <th>AGE</th>\n",
       "      <th>DIS</th>\n",
       "      <th>RAD</th>\n",
       "      <th>TAX</th>\n",
       "      <th>PTRATIO</th>\n",
       "      <th>B</th>\n",
       "      <th>LSTAT</th>\n",
       "      <th>price</th>\n",
       "    </tr>\n",
       "  </thead>\n",
       "  <tbody>\n",
       "    <tr>\n",
       "      <th>0</th>\n",
       "      <td>0.00632</td>\n",
       "      <td>18.0</td>\n",
       "      <td>2.31</td>\n",
       "      <td>0.0</td>\n",
       "      <td>0.538</td>\n",
       "      <td>6.575</td>\n",
       "      <td>65.2</td>\n",
       "      <td>4.0900</td>\n",
       "      <td>1.0</td>\n",
       "      <td>296.0</td>\n",
       "      <td>15.3</td>\n",
       "      <td>396.90</td>\n",
       "      <td>4.98</td>\n",
       "      <td>24.0</td>\n",
       "    </tr>\n",
       "    <tr>\n",
       "      <th>1</th>\n",
       "      <td>0.02731</td>\n",
       "      <td>0.0</td>\n",
       "      <td>7.07</td>\n",
       "      <td>0.0</td>\n",
       "      <td>0.469</td>\n",
       "      <td>6.421</td>\n",
       "      <td>78.9</td>\n",
       "      <td>4.9671</td>\n",
       "      <td>2.0</td>\n",
       "      <td>242.0</td>\n",
       "      <td>17.8</td>\n",
       "      <td>396.90</td>\n",
       "      <td>9.14</td>\n",
       "      <td>21.6</td>\n",
       "    </tr>\n",
       "    <tr>\n",
       "      <th>2</th>\n",
       "      <td>0.02729</td>\n",
       "      <td>0.0</td>\n",
       "      <td>7.07</td>\n",
       "      <td>0.0</td>\n",
       "      <td>0.469</td>\n",
       "      <td>7.185</td>\n",
       "      <td>61.1</td>\n",
       "      <td>4.9671</td>\n",
       "      <td>2.0</td>\n",
       "      <td>242.0</td>\n",
       "      <td>17.8</td>\n",
       "      <td>392.83</td>\n",
       "      <td>4.03</td>\n",
       "      <td>34.7</td>\n",
       "    </tr>\n",
       "    <tr>\n",
       "      <th>3</th>\n",
       "      <td>0.03237</td>\n",
       "      <td>0.0</td>\n",
       "      <td>2.18</td>\n",
       "      <td>0.0</td>\n",
       "      <td>0.458</td>\n",
       "      <td>6.998</td>\n",
       "      <td>45.8</td>\n",
       "      <td>6.0622</td>\n",
       "      <td>3.0</td>\n",
       "      <td>222.0</td>\n",
       "      <td>18.7</td>\n",
       "      <td>394.63</td>\n",
       "      <td>2.94</td>\n",
       "      <td>33.4</td>\n",
       "    </tr>\n",
       "    <tr>\n",
       "      <th>4</th>\n",
       "      <td>0.06905</td>\n",
       "      <td>0.0</td>\n",
       "      <td>2.18</td>\n",
       "      <td>0.0</td>\n",
       "      <td>0.458</td>\n",
       "      <td>7.147</td>\n",
       "      <td>54.2</td>\n",
       "      <td>6.0622</td>\n",
       "      <td>3.0</td>\n",
       "      <td>222.0</td>\n",
       "      <td>18.7</td>\n",
       "      <td>396.90</td>\n",
       "      <td>5.33</td>\n",
       "      <td>36.2</td>\n",
       "    </tr>\n",
       "  </tbody>\n",
       "</table>\n",
       "</div>"
      ],
      "text/plain": [
       "      CRIM    ZN  INDUS  CHAS    NOX     RM   AGE     DIS  RAD    TAX  \\\n",
       "0  0.00632  18.0   2.31   0.0  0.538  6.575  65.2  4.0900  1.0  296.0   \n",
       "1  0.02731   0.0   7.07   0.0  0.469  6.421  78.9  4.9671  2.0  242.0   \n",
       "2  0.02729   0.0   7.07   0.0  0.469  7.185  61.1  4.9671  2.0  242.0   \n",
       "3  0.03237   0.0   2.18   0.0  0.458  6.998  45.8  6.0622  3.0  222.0   \n",
       "4  0.06905   0.0   2.18   0.0  0.458  7.147  54.2  6.0622  3.0  222.0   \n",
       "\n",
       "   PTRATIO       B  LSTAT  price  \n",
       "0     15.3  396.90   4.98   24.0  \n",
       "1     17.8  396.90   9.14   21.6  \n",
       "2     17.8  392.83   4.03   34.7  \n",
       "3     18.7  394.63   2.94   33.4  \n",
       "4     18.7  396.90   5.33   36.2  "
      ]
     },
     "execution_count": 13,
     "metadata": {},
     "output_type": "execute_result"
    }
   ],
   "source": [
    "boston_df.head()"
   ]
  },
  {
   "cell_type": "markdown",
   "metadata": {},
   "source": [
    "# Linear Regression Basics\n",
    "\n",
    "We have the data set with $n$ rows and $p$ features. Target $y$ is a continuous value vector of shape $n\\times 1$. We assume there is a linear relationship between the features and the target, and we try to fit a straight line to the features that best predict the target. The line takes the form \n",
    "$$\\hat{y} = X\\alpha + \\beta,$$ where $\\alpha\\in R^{p\\times 1}$ and $\\beta\\in R$. In other words, $\\alpha$ is the coefficients of each feature, and $\\beta$ is the intercept of the line on $y$-axis.\n",
    "\n",
    "The objective is to find $\\alpha$ and $\\beta$ that minimize the mean squred error\n",
    "$$g(\\alpha, \\beta) = (y - X\\alpha + \\beta e)T(y - X\\alpha + \\beta e),$$ which can be rewritten as \n",
    "$$g(\\alpha, \\beta) = (y - \\tilde{X}\\tilde\\alpha)T(y - \\tilde{X}\\tilde\\alpha),$$ where\n",
    "$\\tilde{X} = [X, e_n]$ and $\\tilde\\alpha = [\\alpha^T, \\beta]^T$\n",
    "\n",
    "Since the objective is convex, we can solve it by setting the derivative to 0.\n",
    "$$\\frac{\\partial g}{\\partial\\tilde\\alpha} = -2\\tilde{X}^T(y - \\tilde{X}\\tilde\\alpha)$$\n",
    "\n",
    "Setting $\\frac{\\partial g}{\\tilde\\alpha} = 0$, we get\n",
    "$$\\tilde\\alpha = (\\tilde{X}^T\\tilde{X})^{-1}\\tilde{X}^Ty$$\n",
    "\n",
    "We can obtain $\\tilde\\alpha$ by solving the equation above, or we can also obtain it by using gradient descent, where the update for each iteration will be\n",
    "$$\\tilde\\alpha_{i+1} = \\tilde\\alpha_{i} + 2\\tilde{X}^T(y - \\tilde{X}\\tilde\\alpha_i)$$"
   ]
  },
  {
   "cell_type": "code",
   "execution_count": 325,
   "metadata": {},
   "outputs": [
    {
     "data": {
      "text/plain": [
       "array([ 4.5, 14. ])"
      ]
     },
     "execution_count": 325,
     "metadata": {},
     "output_type": "execute_result"
    }
   ],
   "source": [
    "np.std(np.array([[1,2],[10,30]]), axis=0)"
   ]
  },
  {
   "cell_type": "code",
   "execution_count": 386,
   "metadata": {},
   "outputs": [],
   "source": [
    "class LinearRegression:\n",
    "    def __init__(self, max_iter=300):\n",
    "        self.coef_ = None\n",
    "        self.max_iter = max_iter\n",
    "        \n",
    "    def _normalizer(self, X):\n",
    "        normalized_x = np.ones(X.shape)\n",
    "        x_mean = np.mean(X, axis=0)\n",
    "        x_std = np.std(X, axis=0)\n",
    "        normalized_x = (X - np.mean(X))/(x_std)\n",
    "        return normalized_x, x_mean, x_std\n",
    "    \n",
    "    def fit(self, X, y):\n",
    "        assert len(X) == len(y)\n",
    "        n, p = X.shape\n",
    "        # standardize feature matrix\n",
    "        normalized_x, x_mean, x_std = self._normalizer(X)\n",
    "        \n",
    "        # add a column on ones for intercept\n",
    "        aug_x = np.concatenate((normalized_x, np.ones((len(normalized_x), 1))), axis=1)\n",
    "        \n",
    "        # initialize coefficients\n",
    "        self.coef_ = np.ones((aug_x.shape[1], 1))\n",
    "        iter = 0\n",
    "        update = np.ones((aug_x.shape[1], 1))\n",
    "        learning_rate = 0.0001\n",
    "        prev_obj = 1e10\n",
    "        obj = 1e9\n",
    "        \n",
    "        # keep updating until max iterations or update of obj is less than 0.001\n",
    "        while iter < self.max_iter and abs(prev_obj - obj) > 1e-3:\n",
    "            prev_obj = obj\n",
    "            update = -2*aug_x.T @ (y.reshape((n,1)) - aug_x @ self.coef_)\n",
    "            self.coef_ -= learning_rate * update\n",
    "            obj = (y.reshape((n,1)) - aug_x @ self.coef_).T @ (y.reshape((n,1)) - aug_x @ self.coef_)\n",
    "            iter += 1\n",
    "            print(obj)\n",
    "        \n",
    "        # convert coefficients back to before standardization\n",
    "        print(self.coef_[:-1])\n",
    "        print(x_std)\n",
    "        self.coef_[:-1] = self.coef_[:-1]/x_std.reshape((len(self.coef_)-1,1))\n",
    "        self.coef_[-1] -= self.coef_[:-1].T @ x_mean\n"
   ]
  },
  {
   "cell_type": "code",
   "execution_count": 387,
   "metadata": {},
   "outputs": [],
   "source": [
    "lr = LinearRegression(max_iter = 10000)"
   ]
  },
  {
   "cell_type": "code",
   "execution_count": 388,
   "metadata": {},
   "outputs": [
    {
     "data": {
      "text/plain": [
       "array([[1., 1., 1.],\n",
       "       [5., 5., 5.]])"
      ]
     },
     "execution_count": 388,
     "metadata": {},
     "output_type": "execute_result"
    }
   ],
   "source": [
    "np.array([[1,2,3], [5,10,15]])/np.array([1,2,3])"
   ]
  },
  {
   "cell_type": "code",
   "execution_count": 389,
   "metadata": {},
   "outputs": [
    {
     "name": "stdout",
     "output_type": "stream",
     "text": [
      "[[210088.57146395]]\n",
      "[[159148.38224176]]\n",
      "[[124742.30505258]]\n",
      "[[101320.78566222]]\n",
      "[[85216.49157864]]\n",
      "[[74002.63492726]]\n",
      "[[66070.83700137]]\n",
      "[[60353.20256283]]\n",
      "[[56139.18525696]]\n",
      "[[52954.8055385]]\n",
      "[[50482.91477646]]\n",
      "[[48510.50171499]]\n",
      "[[46893.83058466]]\n",
      "[[45535.3481712]]\n",
      "[[44368.36606723]]\n",
      "[[43346.88500954]]\n",
      "[[42438.82375176]]\n",
      "[[41621.50480025]]\n",
      "[[40878.63820191]]\n",
      "[[40198.3011426]]\n",
      "[[39571.58055421]]\n",
      "[[38991.65793657]]\n",
      "[[38453.18971852]]\n",
      "[[37951.88558193]]\n",
      "[[37484.21973546]]\n",
      "[[37047.23174743]]\n",
      "[[36638.38792422]]\n",
      "[[36255.48379222]]\n",
      "[[35896.57462534]]\n",
      "[[35559.92522295]]\n",
      "[[35243.97299621]]\n",
      "[[34947.30033358]]\n",
      "[[34668.61350137]]\n",
      "[[34406.7262011]]\n",
      "[[34160.54649044]]\n",
      "[[33929.06617072]]\n",
      "[[33711.35201395]]\n",
      "[[33506.53838646]]\n",
      "[[33313.82095281]]\n",
      "[[33132.45123144]]\n",
      "[[32961.73183404]]\n",
      "[[32801.01226356]]\n",
      "[[32649.68517618]]\n",
      "[[32507.18303397]]\n",
      "[[32372.9750911]]\n",
      "[[32246.56466758]]\n",
      "[[32127.48667367]]\n",
      "[[32015.30535418]]\n",
      "[[31909.61222735]]\n",
      "[[31810.02419656]]\n",
      "[[31716.18181674]]\n",
      "[[31627.74769936]]\n",
      "[[31544.40504245]]\n",
      "[[31465.85627357]]\n",
      "[[31391.82179512]]\n",
      "[[31322.03882269]]\n",
      "[[31256.26030819]]\n",
      "[[31194.25394036]]\n",
      "[[31135.80121598]]\n",
      "[[31080.69657607]]\n",
      "[[31028.74660157]]\n",
      "[[30979.76926384]]\n",
      "[[30933.59322554]]\n",
      "[[30890.05718819]]\n",
      "[[30849.00928253]]\n",
      "[[30810.30649884]]\n",
      "[[30773.81415389]]\n",
      "[[30739.40539225]]\n",
      "[[30706.96071906]]\n",
      "[[30676.36756247]]\n",
      "[[30647.51986332]]\n",
      "[[30620.31769043]]\n",
      "[[30594.66687954]]\n",
      "[[30570.47869459]]\n",
      "[[30547.6695095]]\n",
      "[[30526.16050943]]\n",
      "[[30505.87741002]]\n",
      "[[30486.75019353]]\n",
      "[[30468.71286086]]\n",
      "[[30451.70319829]]\n",
      "[[30435.66255815]]\n",
      "[[30420.53565247]]\n",
      "[[30406.27035885]]\n",
      "[[30392.8175377]]\n",
      "[[30380.13086033]]\n",
      "[[30368.16664705]]\n",
      "[[30356.8837147]]\n",
      "[[30346.24323319]]\n",
      "[[30336.20859031]]\n",
      "[[30326.74526439]]\n",
      "[[30317.82070447]]\n",
      "[[30309.40421724]]\n",
      "[[30301.46686069]]\n",
      "[[30293.98134377]]\n",
      "[[30286.92193196]]\n",
      "[[30280.26435818]]\n",
      "[[30273.98573891]]\n",
      "[[30268.06449511]]\n",
      "[[30262.48027766]]\n",
      "[[30257.21389713]]\n",
      "[[30252.24725753]]\n",
      "[[30247.56329394]]\n",
      "[[30243.14591361]]\n",
      "[[30238.97994052]]\n",
      "[[30235.05106308]]\n",
      "[[30231.34578482]]\n",
      "[[30227.85137792]]\n",
      "[[30224.55583936]]\n",
      "[[30221.44784965]]\n",
      "[[30218.51673381]]\n",
      "[[30215.75242469]]\n",
      "[[30213.14542831]]\n",
      "[[30210.68679121]]\n",
      "[[30208.36806964]]\n",
      "[[30206.18130056]]\n",
      "[[30204.1189742]]\n",
      "[[30202.17400832]]\n",
      "[[30200.33972379]]\n",
      "[[30198.60982168]]\n",
      "[[30196.97836158]]\n",
      "[[30195.43974122]]\n",
      "[[30193.98867717]]\n",
      "[[30192.62018672]]\n",
      "[[30191.32957078]]\n",
      "[[30190.11239766]]\n",
      "[[30188.96448793]]\n",
      "[[30187.8819]]\n",
      "[[30186.86091662]]\n",
      "[[30185.89803207]]\n",
      "[[30184.98994016]]\n",
      "[[30184.13352286]]\n",
      "[[30183.32583957]]\n",
      "[[30182.56411705]]\n",
      "[[30181.84573988]]\n",
      "[[30181.16824146]]\n",
      "[[30180.52929558]]\n",
      "[[30179.92670841]]\n",
      "[[30179.35841095]]\n",
      "[[30178.82245194]]\n",
      "[[30178.31699119]]\n",
      "[[30177.84029318]]\n",
      "[[30177.3907212]]\n",
      "[[30176.96673164]]\n",
      "[[30176.56686875]]\n",
      "[[30176.18975962]]\n",
      "[[30175.83410946]]\n",
      "[[30175.49869716]]\n",
      "[[30175.18237111]]\n",
      "[[30174.88404522]]\n",
      "[[30174.6026952]]\n",
      "[[30174.33735506]]\n",
      "[[30174.08711378]]\n",
      "[[30173.85111216]]\n",
      "[[30173.62853991]]\n",
      "[[30173.41863286]]\n",
      "[[30173.22067029]]\n",
      "[[30173.03397253]]\n",
      "[[30172.85789856]]\n",
      "[[30172.69184384]]\n",
      "[[30172.53523825]]\n",
      "[[30172.3875441]]\n",
      "[[30172.24825428]]\n",
      "[[30172.11689056]]\n",
      "[[30171.99300192]]\n",
      "[[30171.87616299]]\n",
      "[[30171.76597262]]\n",
      "[[30171.66205249]]\n",
      "[[30171.56404579]]\n",
      "[[30171.47161602]]\n",
      "[[30171.38444585]]\n",
      "[[30171.30223597]]\n",
      "[[30171.22470413]]\n",
      "[[30171.15158414]]\n",
      "[[30171.08262493]]\n",
      "[[30171.01758976]]\n",
      "[[30170.95625532]]\n",
      "[[30170.89841103]]\n",
      "[[30170.84385829]]\n",
      "[[30170.7924098]]\n",
      "[[30170.74388891]]\n",
      "[[30170.69812903]]\n",
      "[[30170.65497306]]\n",
      "[[30170.61427282]]\n",
      "[[30170.57588856]]\n",
      "[[30170.53968851]]\n",
      "[[30170.50554838]]\n",
      "[[30170.47335094]]\n",
      "[[30170.44298565]]\n",
      "[[30170.41434825]]\n",
      "[[30170.38734042]]\n",
      "[[30170.36186944]]\n",
      "[[30170.33784785]]\n",
      "[[30170.31519317]]\n",
      "[[30170.29382762]]\n",
      "[[30170.27367785]]\n",
      "[[30170.25467468]]\n",
      "[[30170.23675285]]\n",
      "[[30170.21985084]]\n",
      "[[30170.20391062]]\n",
      "[[30170.18887745]]\n",
      "[[30170.17469972]]\n",
      "[[30170.16132876]]\n",
      "[[30170.14871865]]\n",
      "[[30170.1368261]]\n",
      "[[30170.12561028]]\n",
      "[[30170.11503268]]\n",
      "[[30170.10505699]]\n",
      "[[30170.09564895]]\n",
      "[[30170.08677626]]\n",
      "[[30170.07840845]]\n",
      "[[30170.07051681]]\n",
      "[[30170.06307422]]\n",
      "[[30170.05605515]]\n",
      "[[30170.04943549]]\n",
      "[[30170.04319251]]\n",
      "[[30170.03730478]]\n",
      "[[30170.03175208]]\n",
      "[[30170.02651535]]\n",
      "[[30170.02157661]]\n",
      "[[30170.0169189]]\n",
      "[[30170.01252623]]\n",
      "[[30170.00838352]]\n",
      "[[30170.00447654]]\n",
      "[[30170.00079189]]\n",
      "[[30169.99731691]]\n",
      "[[30169.99403966]]\n",
      "[[30169.9909489]]\n",
      "[[30169.98803402]]\n",
      "[[30169.985285]]\n",
      "[[30169.98269242]]\n",
      "[[30169.98024736]]\n",
      "[[30169.97794143]]\n",
      "[[30169.97576672]]\n",
      "[[30169.97371576]]\n",
      "[[30169.9717815]]\n",
      "[[30169.96995731]]\n",
      "[[30169.96823693]]\n",
      "[[30169.96661444]]\n",
      "[[30169.96508427]]\n",
      "[[30169.96364118]]\n",
      "[[30169.9622802]]\n",
      "[[30169.96099667]]\n",
      "[[30169.95978618]]\n",
      "[[30169.95864457]]\n",
      "[[30169.95756791]]\n",
      "[[30169.95655253]]\n",
      "[[30169.95559492]]\n",
      "[[-2.14043125]\n",
      " [ 1.36665212]\n",
      " [-2.84227532]]\n",
      "[ 8.59304135 23.29939569  6.85357058]\n"
     ]
    }
   ],
   "source": [
    "target = 'price'\n",
    "features = [col for col in boston_df.columns if col != target]\n",
    "\n",
    "lr.fit(boston_df[features[:3]].values, boston_df[target].values)"
   ]
  },
  {
   "cell_type": "code",
   "execution_count": 390,
   "metadata": {},
   "outputs": [
    {
     "data": {
      "text/plain": [
       "array([[-0.2490889 ],\n",
       "       [ 0.05865612],\n",
       "       [-0.41471453],\n",
       "       [26.96752585]])"
      ]
     },
     "execution_count": 390,
     "metadata": {},
     "output_type": "execute_result"
    }
   ],
   "source": [
    "lr.coef_"
   ]
  },
  {
   "cell_type": "code",
   "execution_count": 410,
   "metadata": {},
   "outputs": [
    {
     "data": {
      "text/plain": [
       "-211.20756191927282"
      ]
     },
     "execution_count": 410,
     "metadata": {},
     "output_type": "execute_result"
    }
   ],
   "source": [
    "(boston_df[features[:3]]@lr.coef_[:3] + lr.coef_[3]).T.iloc[0] - boston_df[target]"
   ]
  },
  {
   "cell_type": "code",
   "execution_count": 397,
   "metadata": {},
   "outputs": [
    {
     "data": {
      "text/plain": [
       "0      24.0\n",
       "1      21.6\n",
       "2      34.7\n",
       "3      33.4\n",
       "4      36.2\n",
       "       ... \n",
       "501    22.4\n",
       "502    20.6\n",
       "503    23.9\n",
       "504    22.0\n",
       "505    11.9\n",
       "Name: price, Length: 506, dtype: float64"
      ]
     },
     "execution_count": 397,
     "metadata": {},
     "output_type": "execute_result"
    }
   ],
   "source": [
    "boston_df[target]"
   ]
  },
  {
   "cell_type": "code",
   "execution_count": 392,
   "metadata": {},
   "outputs": [
    {
     "data": {
      "text/plain": [
       "[<matplotlib.lines.Line2D at 0x7f938ada1d60>]"
      ]
     },
     "execution_count": 392,
     "metadata": {},
     "output_type": "execute_result"
    },
    {
     "data": {
      "image/png": "[encoded data removed]",
      "text/plain": [
       "<Figure size 432x288 with 1 Axes>"
      ]
     },
     "metadata": {
      "needs_background": "light"
     },
     "output_type": "display_data"
    }
   ],
   "source": [
    "plt.scatter(boston_df[features[1]], boston_df[target])\n",
    "plt.plot(np.linspace(0, 80, num=81) * lr.coef_[0] + lr.coef_[1])"
   ]
  },
  {
   "cell_type": "code",
   "execution_count": 285,
   "metadata": {},
   "outputs": [
    {
     "data": {
      "text/plain": [
       "array([ 0.,  1.,  2.,  3.,  4.,  5.,  6.,  7.,  8.,  9., 10., 11., 12.,\n",
       "       13., 14., 15., 16., 17., 18., 19., 20., 21., 22., 23., 24., 25.,\n",
       "       26., 27., 28., 29., 30., 31., 32., 33., 34., 35., 36., 37., 38.,\n",
       "       39., 40., 41., 42., 43., 44., 45., 46., 47., 48., 49., 50., 51.,\n",
       "       52., 53., 54., 55., 56., 57., 58., 59., 60., 61., 62., 63., 64.,\n",
       "       65., 66., 67., 68., 69., 70., 71., 72., 73., 74., 75., 76., 77.,\n",
       "       78., 79., 80.])"
      ]
     },
     "execution_count": 285,
     "metadata": {},
     "output_type": "execute_result"
    }
   ],
   "source": []
  },
  {
   "cell_type": "code",
   "execution_count": null,
   "metadata": {},
   "outputs": [],
   "source": []
  }
 ],
 "metadata": {
  "kernelspec": {
   "display_name": "Python 3",
   "language": "python",
   "name": "python3"
  },
  "language_info": {
   "codemirror_mode": {
    "name": "ipython",
    "version": 3
   },
   "file_extension": ".py",
   "mimetype": "text/x-python",
   "name": "python",
   "nbconvert_exporter": "python",
   "pygments_lexer": "ipython3",
   "version": "3.8.0"
  }
 },
 "nbformat": 4,
 "nbformat_minor": 4
}
